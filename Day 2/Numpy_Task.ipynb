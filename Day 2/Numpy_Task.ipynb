{
 "cells": [
  {
   "cell_type": "code",
   "execution_count": 1,
   "id": "e94e6453",
   "metadata": {},
   "outputs": [],
   "source": [
    "import numpy as np"
   ]
  },
  {
   "cell_type": "markdown",
   "id": "1e02a679",
   "metadata": {},
   "source": [
    "# 1. Array Creation"
   ]
  },
  {
   "cell_type": "markdown",
   "id": "9962dd40",
   "metadata": {},
   "source": [
    "#### Create a 1D array of numbers from 10 to 50."
   ]
  },
  {
   "cell_type": "code",
   "execution_count": 8,
   "id": "f52038b7",
   "metadata": {},
   "outputs": [
    {
     "data": {
      "text/plain": [
       "array([10, 11, 12, 13, 14, 15, 16, 17, 18, 19, 20, 21, 22, 23, 24, 25, 26,\n",
       "       27, 28, 29, 30, 31, 32, 33, 34, 35, 36, 37, 38, 39, 40, 41, 42, 43,\n",
       "       44, 45, 46, 47, 48, 49, 50])"
      ]
     },
     "execution_count": 8,
     "metadata": {},
     "output_type": "execute_result"
    }
   ],
   "source": [
    "arr1 = np.arange(10,51)\n",
    "arr1"
   ]
  },
  {
   "cell_type": "markdown",
   "id": "a2d34310",
   "metadata": {},
   "source": [
    "#### Create a 3x3 array of random numbers between 0 and 1."
   ]
  },
  {
   "cell_type": "code",
   "execution_count": 9,
   "id": "d8d33ad9",
   "metadata": {},
   "outputs": [
    {
     "data": {
      "text/plain": [
       "array([[0.17428789, 0.24391051, 0.03004712],\n",
       "       [0.19367191, 0.69005563, 0.96187617],\n",
       "       [0.13529739, 0.13707529, 0.09469545]])"
      ]
     },
     "execution_count": 9,
     "metadata": {},
     "output_type": "execute_result"
    }
   ],
   "source": [
    "rand_arr = np.random.random((3,3))\n",
    "rand_arr"
   ]
  },
  {
   "cell_type": "markdown",
   "id": "3c72540f",
   "metadata": {},
   "source": [
    "# 2. Array Attributes"
   ]
  },
  {
   "cell_type": "markdown",
   "id": "f4d00311",
   "metadata": {},
   "source": [
    "#### Find the shape, size, and data type of the array you created in the previous task"
   ]
  },
  {
   "cell_type": "code",
   "execution_count": 13,
   "id": "d9e8fd16",
   "metadata": {},
   "outputs": [
    {
     "name": "stdout",
     "output_type": "stream",
     "text": [
      "(3, 3)\n",
      "9\n",
      "float64\n"
     ]
    }
   ],
   "source": [
    "print(rand_arr.shape)\n",
    "print(rand_arr.size)\n",
    "print(rand_arr.dtype)"
   ]
  },
  {
   "cell_type": "markdown",
   "id": "3532b5a9",
   "metadata": {},
   "source": [
    "# 3. Basic Operations"
   ]
  },
  {
   "cell_type": "markdown",
   "id": "8408c5b5",
   "metadata": {},
   "source": [
    "#### Add 5 to every element of a 1D array."
   ]
  },
  {
   "cell_type": "code",
   "execution_count": 14,
   "id": "ea94c43e",
   "metadata": {},
   "outputs": [
    {
     "data": {
      "text/plain": [
       "array([15, 16, 17, 18, 19, 20, 21, 22, 23, 24, 25, 26, 27, 28, 29, 30, 31,\n",
       "       32, 33, 34, 35, 36, 37, 38, 39, 40, 41, 42, 43, 44, 45, 46, 47, 48,\n",
       "       49, 50, 51, 52, 53, 54, 55])"
      ]
     },
     "execution_count": 14,
     "metadata": {},
     "output_type": "execute_result"
    }
   ],
   "source": [
    "arr1+5"
   ]
  },
  {
   "cell_type": "markdown",
   "id": "758de3e6",
   "metadata": {},
   "source": [
    "#### Multiply two 2D arrays element-wise"
   ]
  },
  {
   "cell_type": "code",
   "execution_count": 15,
   "id": "e032ebc4",
   "metadata": {},
   "outputs": [
    {
     "data": {
      "text/plain": [
       "array([ 20,  22,  24,  26,  28,  30,  32,  34,  36,  38,  40,  42,  44,\n",
       "        46,  48,  50,  52,  54,  56,  58,  60,  62,  64,  66,  68,  70,\n",
       "        72,  74,  76,  78,  80,  82,  84,  86,  88,  90,  92,  94,  96,\n",
       "        98, 100])"
      ]
     },
     "execution_count": 15,
     "metadata": {},
     "output_type": "execute_result"
    }
   ],
   "source": [
    "arr1*2"
   ]
  },
  {
   "cell_type": "markdown",
   "id": "1062fd0f",
   "metadata": {},
   "source": [
    "# 4. Indexing and Slicing"
   ]
  },
  {
   "cell_type": "markdown",
   "id": "365c7ac0",
   "metadata": {},
   "source": [
    "#### Create a 5x5 array of integers from 1 to 25."
   ]
  },
  {
   "cell_type": "code",
   "execution_count": 22,
   "id": "9ad49533",
   "metadata": {},
   "outputs": [
    {
     "data": {
      "text/plain": [
       "array([[ 1,  2,  3,  4,  5],\n",
       "       [ 6,  7,  8,  9, 10],\n",
       "       [11, 12, 13, 14, 15],\n",
       "       [16, 17, 18, 19, 20],\n",
       "       [21, 22, 23, 24, 25]])"
      ]
     },
     "execution_count": 22,
     "metadata": {},
     "output_type": "execute_result"
    }
   ],
   "source": [
    "arr2 = np.arange(1,26)\n",
    "arr2 = arr2.reshape((5,5))\n",
    "arr2"
   ]
  },
  {
   "cell_type": "markdown",
   "id": "c7a556e9",
   "metadata": {},
   "source": [
    "#### The first row."
   ]
  },
  {
   "cell_type": "code",
   "execution_count": 23,
   "id": "12ab047b",
   "metadata": {},
   "outputs": [
    {
     "data": {
      "text/plain": [
       "array([1, 2, 3, 4, 5])"
      ]
     },
     "execution_count": 23,
     "metadata": {},
     "output_type": "execute_result"
    }
   ],
   "source": [
    "arr2[0]"
   ]
  },
  {
   "cell_type": "markdown",
   "id": "3a1876ef",
   "metadata": {},
   "source": [
    "#### The last column."
   ]
  },
  {
   "cell_type": "code",
   "execution_count": 24,
   "id": "c2c68b7b",
   "metadata": {},
   "outputs": [
    {
     "data": {
      "text/plain": [
       "array([[ 5],\n",
       "       [10],\n",
       "       [15],\n",
       "       [20],\n",
       "       [25]])"
      ]
     },
     "execution_count": 24,
     "metadata": {},
     "output_type": "execute_result"
    }
   ],
   "source": [
    "arr2[:,-1:]"
   ]
  },
  {
   "cell_type": "markdown",
   "id": "d57dde0a",
   "metadata": {},
   "source": [
    "#### A subarray of the first three rows and first two columns"
   ]
  },
  {
   "cell_type": "code",
   "execution_count": 25,
   "id": "52f8528c",
   "metadata": {},
   "outputs": [
    {
     "data": {
      "text/plain": [
       "array([[ 1,  2],\n",
       "       [ 6,  7],\n",
       "       [11, 12]])"
      ]
     },
     "execution_count": 25,
     "metadata": {},
     "output_type": "execute_result"
    }
   ],
   "source": [
    "arr2[:3,:2]"
   ]
  },
  {
   "cell_type": "markdown",
   "id": "5bcd271e",
   "metadata": {},
   "source": [
    "# 5. Aggregation"
   ]
  },
  {
   "cell_type": "markdown",
   "id": "f8485ee0",
   "metadata": {},
   "source": [
    "#### Create a 10-element array of random integers between 1 and 100."
   ]
  },
  {
   "cell_type": "code",
   "execution_count": 32,
   "id": "1f28ed88",
   "metadata": {},
   "outputs": [
    {
     "data": {
      "text/plain": [
       "array([38., 34., 29., 34., 59., 49., 38., 57., 67., 57.])"
      ]
     },
     "execution_count": 32,
     "metadata": {},
     "output_type": "execute_result"
    }
   ],
   "source": [
    "arr3 = np.random.random(10)*100//1\n",
    "arr3"
   ]
  },
  {
   "cell_type": "markdown",
   "id": "f0089645",
   "metadata": {},
   "source": [
    "#### The maximum value."
   ]
  },
  {
   "cell_type": "code",
   "execution_count": 34,
   "id": "f411c1aa",
   "metadata": {},
   "outputs": [
    {
     "data": {
      "text/plain": [
       "67.0"
      ]
     },
     "execution_count": 34,
     "metadata": {},
     "output_type": "execute_result"
    }
   ],
   "source": [
    "arr3.max()"
   ]
  },
  {
   "cell_type": "markdown",
   "id": "9ace74d7",
   "metadata": {},
   "source": [
    "#### The minimum value."
   ]
  },
  {
   "cell_type": "code",
   "execution_count": 35,
   "id": "c4e8efb0",
   "metadata": {},
   "outputs": [
    {
     "data": {
      "text/plain": [
       "29.0"
      ]
     },
     "execution_count": 35,
     "metadata": {},
     "output_type": "execute_result"
    }
   ],
   "source": [
    "arr3.min()"
   ]
  },
  {
   "cell_type": "markdown",
   "id": "fb4a4fe8",
   "metadata": {},
   "source": [
    "#### The mean and standard deviation."
   ]
  },
  {
   "cell_type": "code",
   "execution_count": 37,
   "id": "bf7526c1",
   "metadata": {},
   "outputs": [
    {
     "data": {
      "text/plain": [
       "(46.2, 12.512393855693642)"
      ]
     },
     "execution_count": 37,
     "metadata": {},
     "output_type": "execute_result"
    }
   ],
   "source": [
    "arr3.mean(),arr3.std()"
   ]
  },
  {
   "cell_type": "markdown",
   "id": "0d657480",
   "metadata": {},
   "source": [
    "# 6. Reshaping"
   ]
  },
  {
   "cell_type": "markdown",
   "id": "0f3526ab",
   "metadata": {},
   "source": [
    "#### Convert a 1D array of numbers from 1 to 12 into a 3x4 matrix"
   ]
  },
  {
   "cell_type": "code",
   "execution_count": 39,
   "id": "69421cbe",
   "metadata": {},
   "outputs": [
    {
     "data": {
      "text/plain": [
       "array([[ 1,  2,  3,  4],\n",
       "       [ 5,  6,  7,  8],\n",
       "       [ 9, 10, 11, 12]])"
      ]
     },
     "execution_count": 39,
     "metadata": {},
     "output_type": "execute_result"
    }
   ],
   "source": [
    "np.arange(1,13).reshape((3,4))"
   ]
  },
  {
   "cell_type": "markdown",
   "id": "d07ce6ed",
   "metadata": {},
   "source": [
    "# 7. Broadcasting"
   ]
  },
  {
   "cell_type": "markdown",
   "id": "84da311a",
   "metadata": {},
   "source": [
    "#### Create a 3x3 matrix of ones. Add a 1D array [1, 2, 3] to each row"
   ]
  },
  {
   "cell_type": "code",
   "execution_count": 44,
   "id": "59e14a29",
   "metadata": {},
   "outputs": [
    {
     "data": {
      "text/plain": [
       "array([[2., 3., 4.],\n",
       "       [2., 3., 4.],\n",
       "       [2., 3., 4.]])"
      ]
     },
     "execution_count": 44,
     "metadata": {},
     "output_type": "execute_result"
    }
   ],
   "source": [
    "np.ones((3,3))+np.arange(1,4)"
   ]
  },
  {
   "cell_type": "markdown",
   "id": "86fb3fdf",
   "metadata": {},
   "source": [
    "# 8. Filtering"
   ]
  },
  {
   "cell_type": "markdown",
   "id": "1aac667d",
   "metadata": {},
   "source": [
    "#### Create a 1D array of random integers between 1 and 50. Extract all elements that are divisible by 5."
   ]
  },
  {
   "cell_type": "code",
   "execution_count": 47,
   "id": "8f58b936",
   "metadata": {},
   "outputs": [
    {
     "data": {
      "text/plain": [
       "array([35., 45.])"
      ]
     },
     "execution_count": 47,
     "metadata": {},
     "output_type": "execute_result"
    }
   ],
   "source": [
    "arr4 = np.random.random(10)*50//1\n",
    "arr4[arr4%5==0]"
   ]
  },
  {
   "cell_type": "markdown",
   "id": "37c80ec2",
   "metadata": {},
   "source": [
    "# 9. Matrix Multiplication "
   ]
  },
  {
   "cell_type": "markdown",
   "id": "bbed2733",
   "metadata": {},
   "source": [
    "#### Create two 2x2 matrices and perform matrix multiplication."
   ]
  },
  {
   "cell_type": "code",
   "execution_count": 48,
   "id": "d1f366ce",
   "metadata": {},
   "outputs": [
    {
     "data": {
      "text/plain": [
       "array([[ 8,  5],\n",
       "       [20, 13]])"
      ]
     },
     "execution_count": 48,
     "metadata": {},
     "output_type": "execute_result"
    }
   ],
   "source": [
    "a = np.array([[1,2],[3,4]])\n",
    "b = np.array([[4,3],[2,1]])\n",
    "np.dot(a,b)"
   ]
  },
  {
   "cell_type": "markdown",
   "id": "c8163e51",
   "metadata": {},
   "source": [
    "# 10. Advanced Indexing"
   ]
  },
  {
   "cell_type": "markdown",
   "id": "2f3b7f32",
   "metadata": {},
   "source": [
    "#### Given a 4x4 array, use fancy indexing to extract the diagonal elements."
   ]
  },
  {
   "cell_type": "code",
   "execution_count": 50,
   "id": "3e65a36b",
   "metadata": {},
   "outputs": [
    {
     "data": {
      "text/plain": [
       "array([ 1,  6, 11, 16])"
      ]
     },
     "execution_count": 50,
     "metadata": {},
     "output_type": "execute_result"
    }
   ],
   "source": [
    "mat = np.array([[1,2,3,4],[5,6,7,8],[9,10,11,12],[13,14,15,16]])\n",
    "np.diag(mat)"
   ]
  }
 ],
 "metadata": {
  "kernelspec": {
   "display_name": "Python 3 (ipykernel)",
   "language": "python",
   "name": "python3"
  },
  "language_info": {
   "codemirror_mode": {
    "name": "ipython",
    "version": 3
   },
   "file_extension": ".py",
   "mimetype": "text/x-python",
   "name": "python",
   "nbconvert_exporter": "python",
   "pygments_lexer": "ipython3",
   "version": "3.11.5"
  }
 },
 "nbformat": 4,
 "nbformat_minor": 5
}
